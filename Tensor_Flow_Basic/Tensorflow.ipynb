{
 "cells": [
  {
   "cell_type": "markdown",
   "metadata": {},
   "source": [
    "## <center> Tensor_Flow </center>"
   ]
  },
  {
   "cell_type": "markdown",
   "metadata": {},
   "source": [
    "### Session Agenda\n",
    "TensorFlow Tutorial\n",
    "- Introduction To TensorFlow\n",
    "- What Is Tensors\n",
    "- How To Install Tensor_Flow?\n",
    "- Introduction To Neural Network \n",
    "- Understand The math behind Neural Network.\n",
    "- Getting Started With TEnsor flow\n",
    "- Hands-on Sessions: Two Very Powerful Classification Demos.\n"
   ]
  },
  {
   "cell_type": "markdown",
   "metadata": {},
   "source": [
    "## Introduction To TensorFlow\n",
    "1. TensorFlow is an open-source machine learning framework developed by Google.\n",
    "2. It is designed to facilitate the development, training, and deployment of machine learning models, particularly deep learning models. \n",
    "3. TensorFlow provides a comprehensive set of tools, libraries, and resources that enable researchers and developers to build and implement various types of machine learning algorithms.\n",
    "4. At its core, TensorFlow is based on a computational graph concept. In this graph, nodes represent mathematical operations, and edges represent the flow of data between these operations in the form of tensors, which are multi-dimensional arrays.\n",
    "5. This graph-based approach allows TensorFlow to efficiently optimize computations and distribute them across various hardware devices such as CPUs, GPUs, and TPUs (Tensor Processing Units)\n",
    "\n",
    "<img src=\"TensorFlow.png\" alt=\"Tensor_Flow_Explain\" width=\"500\" Hight=\"600\">\n",
    "\n",
    "### Some key features of TensorFlow include:\n",
    "\n",
    "1. <b> Flexibility </b>: TensorFlow supports a wide range of machine learning tasks, from traditional regression and classification to more advanced tasks like natural language processing, computer vision, and reinforcement learning.\n",
    "\n",
    "2. <b> High-level APIs </b>: TensorFlow offers high-level APIs like Keras that simplify the process of building and training neural networks. Keras provides an intuitive interface for designing complex models with minimal code.\n",
    "\n",
    "3. <b> Distributed Computing </b>: TensorFlow supports distributed computing, enabling the training of large-scale models across multiple machines and GPUs or TPUs.\n",
    "\n",
    "4. <b> TensorBoard </b>: TensorBoard is a visualization tool that helps users monitor and analyze their machine learning experiments, visualizing metrics, model architectures, and more.\n",
    "\n",
    "5. <b>Community and Ecosystem</b>: TensorFlow has a strong community and ecosystem, which means there are plenty of resources, libraries, and pre-trained models available for various applications.\n",
    "\n",
    "6. <b>Deployment </b>: TensorFlow models can be deployed across different platforms, including cloud services, mobile devices, and embedded systems.\n",
    "\n",
    "7. <b>On-device Inference </b>: TensorFlow Lite is a version of TensorFlow optimized for mobile and edge devices, allowing models to run efficiently on resource-constrained devices.\n"
   ]
  },
  {
   "cell_type": "markdown",
   "metadata": {},
   "source": [
    "## Introduction To Neural Network \n",
    "\n",
    "### What Is Neural Network\n",
    "1. Each Neuron Recives Multiplied version of input And Random weights which is added with The Bias value.\n",
    "2. Later This is passed through an Activation Function That The Given The Neuron Its Final Value.\n",
    "\n",
    "### Mathmatices In Neural Network\n",
    "- Example :- <br>\n",
    "      - Two input variables x1 and x2 : x1= 0.6 and x2 = 1.0 <br>\n",
    "      - <b> Weight </b> : w1 = 0.5 and w2 = 0.8<br>\n",
    "      - <b> Threeshold = 1.0 </b>\n",
    "\n",
    "#### Step 1 : Transfer Function <br>\n",
    "<b> Transfer Function </b> : <br>\n",
    "=x1 * w1 + x2 * w2 <br>\n",
    "=(0.6 * 0.5) + (1.0 * 0.8)<br>\n",
    "=0.3 + 0.8 =1.1\n",
    "\n",
    "#### Step 2 : Compare output with Threeshold <br>\n",
    "<b> Comparision </b> : output - Threshold <br>\n",
    "= 1.1 - 1.0 <br>\n",
    "= 0.1\n",
    "\n",
    "#### Step 3 : Activation Function <br>\n",
    "\n",
    "- Here <b> output > threshold </b>\n",
    "- if Output > threeshold , then neuron is activated\n",
    "- Else neuron is not Activated"
   ]
  },
  {
   "cell_type": "markdown",
   "metadata": {},
   "source": [
    "## Getting Started With TensorFlow \n"
   ]
  },
  {
   "cell_type": "markdown",
   "metadata": {},
   "source": []
  }
 ],
 "metadata": {
  "language_info": {
   "name": "python"
  },
  "orig_nbformat": 4
 },
 "nbformat": 4,
 "nbformat_minor": 2
}
